{
 "cells": [
  {
   "cell_type": "markdown",
   "metadata": {},
   "source": [
    "# Computational Drug Discovery Tutorial\n",
    "\n",
    "Welcome to this hands-on notebook accompanying the blog tutorial.  \n",
    "We'll cover:\n",
    "\n",
    "1. **Environment Setup**  \n",
    "2. **Protein Preparation**  \n",
    "3. **Ligand Preparation**  \n",
    "4. **Docking with AutoDock Vina**  \n",
    "5. **Optional Mini Virtual Screening**  \n",
    "6. **Basic ML Model**  \n",
    "7. **Next Steps & Wrap-Up**  \n",
    "\n",
    "---\n",
    "\n",
    "## 1. Environment & Initial Setup\n",
    "\n"
   ]
  },
  {
   "cell_type": "code",
   "execution_count": 13,
   "metadata": {},
   "outputs": [
    {
     "name": "stdout",
     "output_type": "stream",
     "text": [
      "RDKit version: 2022.09.5\n",
      "DeepChem version: 2.8.0\n",
      "Data directory: ./data\n",
      "Results directory: ./results\n"
     ]
    }
   ],
   "source": [
    "import sys\n",
    "import os\n",
    "import rdkit\n",
    "import deepchem\n",
    "from rdkit import Chem\n",
    "print(\"RDKit version:\", rdkit.__version__)\n",
    "print(\"DeepChem version:\", deepchem.__version__)\n",
    "\n",
    "# Define a data directory (adjust to your structure)\n",
    "DATA_DIR = \"./data\"\n",
    "RESULTS_DIR = \"./results\"\n",
    "\n",
    "os.makedirs(DATA_DIR, exist_ok=True)\n",
    "os.makedirs(RESULTS_DIR, exist_ok=True)\n",
    "\n",
    "print(\"Data directory:\", DATA_DIR)\n",
    "print(\"Results directory:\", RESULTS_DIR)\n"
   ]
  },
  {
   "cell_type": "code",
   "execution_count": 14,
   "metadata": {},
   "outputs": [
    {
     "name": "stdout",
     "output_type": "stream",
     "text": [
      "Downloading PDB 2R3J to ./data/2R3J.pdb ...\n",
      "Download complete!\n",
      "We have the following ligands to work with:\n",
      "  - Roscovitine: CC(C)c1ccc(cc1NC(=O)C(CC)NC(=O)c1ccc(cc1)C#N)N(C)C\n"
     ]
    }
   ],
   "source": [
    "import os\n",
    "import requests\n",
    "\n",
    "DATA_DIR = \"./data\"\n",
    "os.makedirs(DATA_DIR, exist_ok=True)\n",
    "\n",
    "# 1) Download the 2R3J PDB directly from RCSB\n",
    "pdb_id = \"2R3J\"\n",
    "pdb_url = f\"https://files.rcsb.org/download/{pdb_id}.pdb\"\n",
    "pdb_file_path = os.path.join(DATA_DIR, f\"{pdb_id}.pdb\")\n",
    "\n",
    "print(f\"Downloading PDB {pdb_id} to {pdb_file_path} ...\")\n",
    "response = requests.get(pdb_url)\n",
    "with open(pdb_file_path, \"wb\") as f:\n",
    "    f.write(response.content)\n",
    "print(\"Download complete!\")\n",
    "\n",
    "# 2) Define some known CDK2 inhibitors by SMILES\n",
    "#    (These can be used in the ligand preparation step)\n",
    "ligand_smiles_dict = {\n",
    "    \"Roscovitine\": \"CC(C)c1ccc(cc1NC(=O)C(CC)NC(=O)c1ccc(cc1)C#N)N(C)C\",\n",
    "}\n",
    "\n",
    "print(\"We have the following ligands to work with:\")\n",
    "for lig_name, smiles in ligand_smiles_dict.items():\n",
    "    print(f\"  - {lig_name}: {smiles}\")\n"
   ]
  },
  {
   "cell_type": "code",
   "execution_count": 15,
   "metadata": {},
   "outputs": [
    {
     "name": "stdout",
     "output_type": "stream",
     "text": [
      "Preparing protein...\n"
     ]
    },
    {
     "name": "stderr",
     "output_type": "stream",
     "text": [
      "==============================\n",
      "*** Open Babel Warning  in PerceiveBondOrders\n",
      "  Failed to kekulize aromatic bonds in OBMol::PerceiveBondOrders (title is ./data/2R3J.pdb)\n",
      "\n",
      "1 molecule converted\n"
     ]
    },
    {
     "name": "stdout",
     "output_type": "stream",
     "text": [
      "Protein prepared. Final file: ./data/2R3J_cleaned.pdb\n",
      "Warning: RDKit could not parse the cleaned protein.\n"
     ]
    },
    {
     "name": "stderr",
     "output_type": "stream",
     "text": [
      "1 molecule converted\n",
      "[11:46:20] Explicit valence for atom # 241 C, 5, is greater than permitted\n"
     ]
    }
   ],
   "source": [
    "import os\n",
    "import subprocess\n",
    "from rdkit import Chem\n",
    "\n",
    "def prepare_protein(input_pdb, output_pdb):\n",
    "    \"\"\"\n",
    "    Remove water molecules and add hydrogens using Open Babel,\n",
    "    then save the cleaned structure to output_pdb.\n",
    "    \"\"\"\n",
    "    no_water_pdb = output_pdb.replace(\".pdb\", \"_noWater.pdb\")\n",
    "    \n",
    "    # 1) Remove water (-xr option in Open Babel)\n",
    "    cmd_remove_water = f\"obabel {input_pdb} -O {no_water_pdb} -xr\"\n",
    "    subprocess.run(cmd_remove_water, shell=True, check=True)\n",
    "    \n",
    "    # 2) Add hydrogens (-h)\n",
    "    cmd_add_h = f\"obabel {no_water_pdb} -O {output_pdb} -h\"\n",
    "    subprocess.run(cmd_add_h, shell=True, check=True)\n",
    "    \n",
    "    print(f\"Protein prepared. Final file: {output_pdb}\")\n",
    "\n",
    "# --- Usage Example ---\n",
    "\n",
    "pdb_id = \"2R3J\"\n",
    "pdb_file_path = os.path.join(DATA_DIR, f\"{pdb_id}.pdb\")\n",
    "cleaned_pdb_path = os.path.join(DATA_DIR, f\"{pdb_id}_cleaned.pdb\")\n",
    "\n",
    "print(\"Preparing protein...\")\n",
    "prepare_protein(pdb_file_path, cleaned_pdb_path)\n",
    "\n",
    "# Optional: Load the cleaned file into RDKit to confirm it can parse properly\n",
    "protein_mol = Chem.MolFromPDBFile(cleaned_pdb_path, removeHs=False)\n",
    "if protein_mol:\n",
    "    print(\"RDKit loaded cleaned protein successfully.\")\n",
    "    print(\"Number of atoms:\", protein_mol.GetNumAtoms())\n",
    "else:\n",
    "    print(\"Warning: RDKit could not parse the cleaned protein.\")\n"
   ]
  },
  {
   "cell_type": "code",
   "execution_count": 16,
   "metadata": {},
   "outputs": [
    {
     "name": "stdout",
     "output_type": "stream",
     "text": [
      "Roscovitine prepared and saved at: ./data/Roscovitine.pdb\n"
     ]
    }
   ],
   "source": [
    "import os\n",
    "from rdkit import Chem\n",
    "from rdkit.Chem import AllChem\n",
    "\n",
    "def prepare_ligand(smiles: str, name: str, outdir: str, \n",
    "                   embed_seed: int = 42) -> str:\n",
    "    \"\"\"\n",
    "    Convert SMILES to 3D with RDKit, add hydrogens, and do\n",
    "    a quick force-field minimization. Return the final .pdb path.\n",
    "    \"\"\"\n",
    "    # Create RDKit Mol\n",
    "    mol = Chem.MolFromSmiles(smiles)\n",
    "    if mol is None:\n",
    "        print(f\"ERROR: Could not parse SMILES for ligand {name}.\")\n",
    "        return \"\"\n",
    "\n",
    "    # Add hydrogens\n",
    "    mol = Chem.AddHs(mol)\n",
    "\n",
    "    # 3D embedding\n",
    "    status = AllChem.EmbedMolecule(mol, randomSeed=embed_seed)\n",
    "    if status != 0:\n",
    "        print(f\"WARNING: Embedding failed for {name} (status={status}).\")\n",
    "    else:\n",
    "        # UFF or MMFF Minimization\n",
    "        AllChem.UFFOptimizeMolecule(mol, maxIters=1000)\n",
    "        # Alternatively: \n",
    "        # AllChem.MMFFOptimizeMolecule(mol, maxIters=1000)\n",
    "\n",
    "    # Write out as .pdb (could also do .sdf)\n",
    "    outfile = os.path.join(outdir, f\"{name}.pdb\")\n",
    "    Chem.MolToPDBFile(mol, outfile)\n",
    "    return outfile\n",
    "\n",
    "# Example usage\n",
    "os.makedirs(DATA_DIR, exist_ok=True)\n",
    "\n",
    "for lig_name, smi in ligand_smiles_dict.items():\n",
    "    pdb_path = prepare_ligand(smi, lig_name, DATA_DIR)\n",
    "\n",
    "    if pdb_path:\n",
    "        print(f\"{lig_name} prepared and saved at: {pdb_path}\")\n"
   ]
  }
 ],
 "metadata": {
  "kernelspec": {
   "display_name": "deepchem-env",
   "language": "python",
   "name": "python3"
  },
  "language_info": {
   "codemirror_mode": {
    "name": "ipython",
    "version": 3
   },
   "file_extension": ".py",
   "mimetype": "text/x-python",
   "name": "python",
   "nbconvert_exporter": "python",
   "pygments_lexer": "ipython3",
   "version": "3.11.11"
  }
 },
 "nbformat": 4,
 "nbformat_minor": 2
}
