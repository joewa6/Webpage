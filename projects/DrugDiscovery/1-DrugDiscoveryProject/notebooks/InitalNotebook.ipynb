{
 "cells": [
  {
   "cell_type": "markdown",
   "metadata": {},
   "source": [
    "# Computational Drug Discovery Tutorial\n",
    "\n",
    "Welcome to this hands-on notebook accompanying the blog tutorial.  \n",
    "We'll cover:\n",
    "\n",
    "1. **Environment Setup**  \n",
    "2. **Protein Preparation**  \n",
    "3. **Ligand Preparation**  \n",
    "4. **Docking with AutoDock Vina**  \n",
    "5. **Optional Mini Virtual Screening**  \n",
    "6. **Basic ML Model**  \n",
    "7. **Next Steps & Wrap-Up**  \n",
    "\n",
    "---\n",
    "\n",
    "## 1. Environment & Initial Setup\n",
    "\n"
   ]
  },
  {
   "cell_type": "code",
   "execution_count": 2,
   "metadata": {},
   "outputs": [
    {
     "name": "stdout",
     "output_type": "stream",
     "text": [
      "RDKit version: 2022.09.5\n",
      "DeepChem version: 2.8.0\n"
     ]
    }
   ],
   "source": [
    "import sys\n",
    "import os\n",
    "import rdkit\n",
    "import deepchem\n",
    "from rdkit import Chem\n",
    "print(\"RDKit version:\", rdkit.__version__)\n",
    "print(\"DeepChem version:\", deepchem.__version__)\n",
    "\n",
    "# Define a data directory (adjust to your structure)\n",
    "DATA_DIR = \"./data\"\n",
    "RESULTS_DIR = \"./results\"\n",
    "\n",
    "os.makedirs(DATA_DIR, exist_ok=True)\n",
    "os.makedirs(RESULTS_DIR, exist_ok=True)\n",
    "\n",
    "print(\"Data directory:\", DATA_DIR)\n",
    "print(\"Results directory:\", RESULTS_DIR)\n"
   ]
  },
  {
   "cell_type": "code",
   "execution_count": 3,
   "metadata": {},
   "outputs": [
    {
     "name": "stdout",
     "output_type": "stream",
     "text": [
      "Downloading PDB 2R3J to ./data/2R3J.pdb ...\n",
      "Download complete!\n",
      "We have the following ligands to work with:\n",
      "  - Roscovitine: CC(C)c1ccc(cc1NC(=O)C(CC)NC(=O)c1ccc(cc1)C#N)N(C)C\n",
      "  - Staurosporine: CC1C=C(C)C2=C(NC3=NC=CC=CC3=O)C(C)=CC(C)C2=C1NC1=NC=CC=C1=O\n"
     ]
    }
   ],
   "source": [
    "import os\n",
    "import requests\n",
    "\n",
    "DATA_DIR = \"./data\"\n",
    "os.makedirs(DATA_DIR, exist_ok=True)\n",
    "\n",
    "# 1) Download the 2R3J PDB directly from RCSB\n",
    "pdb_id = \"2R3J\"\n",
    "pdb_url = f\"https://files.rcsb.org/download/{pdb_id}.pdb\"\n",
    "pdb_file_path = os.path.join(DATA_DIR, f\"{pdb_id}.pdb\")\n",
    "\n",
    "print(f\"Downloading PDB {pdb_id} to {pdb_file_path} ...\")\n",
    "response = requests.get(pdb_url)\n",
    "with open(pdb_file_path, \"wb\") as f:\n",
    "    f.write(response.content)\n",
    "print(\"Download complete!\")\n",
    "\n",
    "# 2) Define some known CDK2 inhibitors by SMILES\n",
    "#    (These can be used in the ligand preparation step)\n",
    "ligand_smiles_dict = {\n",
    "    \"Roscovitine\": \"CC(C)c1ccc(cc1NC(=O)C(CC)NC(=O)c1ccc(cc1)C#N)N(C)C\",\n",
    "    \"Staurosporine\": \"CC1C=C(C)C2=C(NC3=NC=CC=CC3=O)C(C)=CC(C)C2=C1NC1=NC=CC=C1=O\"\n",
    "}\n",
    "\n",
    "print(\"We have the following ligands to work with:\")\n",
    "for lig_name, smiles in ligand_smiles_dict.items():\n",
    "    print(f\"  - {lig_name}: {smiles}\")\n"
   ]
  }
 ],
 "metadata": {
  "kernelspec": {
   "display_name": "deepchem-env",
   "language": "python",
   "name": "python3"
  },
  "language_info": {
   "codemirror_mode": {
    "name": "ipython",
    "version": 3
   },
   "file_extension": ".py",
   "mimetype": "text/x-python",
   "name": "python",
   "nbconvert_exporter": "python",
   "pygments_lexer": "ipython3",
   "version": "3.11.11"
  }
 },
 "nbformat": 4,
 "nbformat_minor": 2
}
