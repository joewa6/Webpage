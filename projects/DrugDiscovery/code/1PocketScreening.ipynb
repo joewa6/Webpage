{
 "cells": [
  {
   "cell_type": "markdown",
   "metadata": {},
   "source": [
    "1. First, lets select some proteins. \n",
    "\n",
    "-BPTI (Bovine Pancreatic Trypsin Inhibitor) (5PTI)"
   ]
  },
  {
   "cell_type": "code",
   "execution_count": null,
   "metadata": {},
   "outputs": [],
   "source": [
    "!pip install torch torchvision\n",
    "!pip install torchsummary\n",
    "!pip install torchviz\n"
   ]
  },
  {
   "cell_type": "code",
   "execution_count": 1,
   "metadata": {},
   "outputs": [
    {
     "name": "stderr",
     "output_type": "stream",
     "text": [
      "Skipped loading some Pytorch utilities, missing a dependency. No module named 'torch'\n"
     ]
    },
    {
     "name": "stdout",
     "output_type": "stream",
     "text": [
      "This module requires PyTorch to be installed.\n"
     ]
    },
    {
     "name": "stderr",
     "output_type": "stream",
     "text": [
      "No normalization for SPS. Feature removed!\n",
      "No normalization for AvgIpc. Feature removed!\n",
      "No normalization for NumAmideBonds. Feature removed!\n",
      "No normalization for NumAtomStereoCenters. Feature removed!\n",
      "No normalization for NumBridgeheadAtoms. Feature removed!\n",
      "No normalization for NumHeterocycles. Feature removed!\n",
      "No normalization for NumSpiroAtoms. Feature removed!\n",
      "No normalization for NumUnspecifiedAtomStereoCenters. Feature removed!\n",
      "No normalization for Phi. Feature removed!\n",
      "Skipped loading some Tensorflow models, missing a dependency. No module named 'tensorflow'\n",
      "Skipped loading some PyTorch models, missing a dependency. No module named 'torch'\n",
      "No module named 'torch'\n",
      "Skipped loading modules with pytorch-geometric dependency, missing a dependency. No module named 'torch'\n",
      "Skipped loading modules with pytorch-lightning dependency, missing a dependency. No module named 'torch'\n",
      "Skipped loading some Jax models, missing a dependency. No module named 'jax'\n",
      "Skipped loading some PyTorch models, missing a dependency. No module named 'tensorflow'\n"
     ]
    },
    {
     "ename": "ModuleNotFoundError",
     "evalue": "No module named 'torch'",
     "output_type": "error",
     "traceback": [
      "\u001b[0;31m---------------------------------------------------------------------------\u001b[0m",
      "\u001b[0;31mModuleNotFoundError\u001b[0m                       Traceback (most recent call last)",
      "Cell \u001b[0;32mIn[1], line 9\u001b[0m\n\u001b[1;32m      7\u001b[0m \u001b[38;5;28;01mimport\u001b[39;00m\u001b[38;5;250m \u001b[39m\u001b[38;5;21;01mdeepchem\u001b[39;00m\u001b[38;5;250m \u001b[39m\u001b[38;5;28;01mas\u001b[39;00m\u001b[38;5;250m \u001b[39m\u001b[38;5;21;01mdc\u001b[39;00m\n\u001b[1;32m      8\u001b[0m \u001b[38;5;28;01mfrom\u001b[39;00m\u001b[38;5;250m \u001b[39m\u001b[38;5;21;01mdeepchem\u001b[39;00m\u001b[38;5;21;01m.\u001b[39;00m\u001b[38;5;21;01mfeat\u001b[39;00m\u001b[38;5;250m \u001b[39m\u001b[38;5;28;01mimport\u001b[39;00m MolGraphConvFeaturizer\n\u001b[0;32m----> 9\u001b[0m \u001b[38;5;28;01mfrom\u001b[39;00m\u001b[38;5;250m \u001b[39m\u001b[38;5;21;01mdeepchem\u001b[39;00m\u001b[38;5;21;01m.\u001b[39;00m\u001b[38;5;21;01mmodels\u001b[39;00m\u001b[38;5;21;01m.\u001b[39;00m\u001b[38;5;21;01mtorch_models\u001b[39;00m\u001b[38;5;250m \u001b[39m\u001b[38;5;28;01mimport\u001b[39;00m GraphConvModel\n\u001b[1;32m     12\u001b[0m \u001b[38;5;66;03m# Install Fpocket if not already installed\u001b[39;00m\n\u001b[1;32m     13\u001b[0m subprocess\u001b[38;5;241m.\u001b[39mrun([\u001b[38;5;124m\"\u001b[39m\u001b[38;5;124msudo\u001b[39m\u001b[38;5;124m\"\u001b[39m, \u001b[38;5;124m\"\u001b[39m\u001b[38;5;124mapt-get\u001b[39m\u001b[38;5;124m\"\u001b[39m, \u001b[38;5;124m\"\u001b[39m\u001b[38;5;124minstall\u001b[39m\u001b[38;5;124m\"\u001b[39m, \u001b[38;5;124m\"\u001b[39m\u001b[38;5;124m-y\u001b[39m\u001b[38;5;124m\"\u001b[39m, \u001b[38;5;124m\"\u001b[39m\u001b[38;5;124mfpocket\u001b[39m\u001b[38;5;124m\"\u001b[39m])\n",
      "File \u001b[0;32m~/miniconda3/envs/deepchem-env/lib/python3.11/site-packages/deepchem/models/torch_models/__init__.py:6\u001b[0m\n\u001b[1;32m      2\u001b[0m \u001b[38;5;28;01mimport\u001b[39;00m\u001b[38;5;250m \u001b[39m\u001b[38;5;21;01mlogging\u001b[39;00m\n\u001b[1;32m      4\u001b[0m logger \u001b[38;5;241m=\u001b[39m logging\u001b[38;5;241m.\u001b[39mgetLogger(\u001b[38;5;18m__name__\u001b[39m)\n\u001b[0;32m----> 6\u001b[0m \u001b[38;5;28;01mfrom\u001b[39;00m\u001b[38;5;250m \u001b[39m\u001b[38;5;21;01mdeepchem\u001b[39;00m\u001b[38;5;21;01m.\u001b[39;00m\u001b[38;5;21;01mmodels\u001b[39;00m\u001b[38;5;21;01m.\u001b[39;00m\u001b[38;5;21;01mtorch_models\u001b[39;00m\u001b[38;5;21;01m.\u001b[39;00m\u001b[38;5;21;01mtorch_model\u001b[39;00m\u001b[38;5;250m \u001b[39m\u001b[38;5;28;01mimport\u001b[39;00m TorchModel\n\u001b[1;32m      7\u001b[0m \u001b[38;5;28;01mfrom\u001b[39;00m\u001b[38;5;250m \u001b[39m\u001b[38;5;21;01mdeepchem\u001b[39;00m\u001b[38;5;21;01m.\u001b[39;00m\u001b[38;5;21;01mmodels\u001b[39;00m\u001b[38;5;21;01m.\u001b[39;00m\u001b[38;5;21;01mtorch_models\u001b[39;00m\u001b[38;5;21;01m.\u001b[39;00m\u001b[38;5;21;01mmodular\u001b[39;00m\u001b[38;5;250m \u001b[39m\u001b[38;5;28;01mimport\u001b[39;00m ModularTorchModel\n\u001b[1;32m      8\u001b[0m \u001b[38;5;28;01mfrom\u001b[39;00m\u001b[38;5;250m \u001b[39m\u001b[38;5;21;01mdeepchem\u001b[39;00m\u001b[38;5;21;01m.\u001b[39;00m\u001b[38;5;21;01mmodels\u001b[39;00m\u001b[38;5;21;01m.\u001b[39;00m\u001b[38;5;21;01mtorch_models\u001b[39;00m\u001b[38;5;21;01m.\u001b[39;00m\u001b[38;5;21;01mattentivefp\u001b[39;00m\u001b[38;5;250m \u001b[39m\u001b[38;5;28;01mimport\u001b[39;00m AttentiveFP, AttentiveFPModel\n",
      "File \u001b[0;32m~/miniconda3/envs/deepchem-env/lib/python3.11/site-packages/deepchem/models/torch_models/torch_model.py:2\u001b[0m\n\u001b[1;32m      1\u001b[0m \u001b[38;5;28;01mimport\u001b[39;00m\u001b[38;5;250m \u001b[39m\u001b[38;5;21;01mnumpy\u001b[39;00m\u001b[38;5;250m \u001b[39m\u001b[38;5;28;01mas\u001b[39;00m\u001b[38;5;250m \u001b[39m\u001b[38;5;21;01mnp\u001b[39;00m\n\u001b[0;32m----> 2\u001b[0m \u001b[38;5;28;01mimport\u001b[39;00m\u001b[38;5;250m \u001b[39m\u001b[38;5;21;01mtorch\u001b[39;00m\n\u001b[1;32m      3\u001b[0m \u001b[38;5;28;01mtry\u001b[39;00m:\n\u001b[1;32m      4\u001b[0m     \u001b[38;5;28;01mimport\u001b[39;00m\u001b[38;5;250m \u001b[39m\u001b[38;5;21;01mtorch\u001b[39;00m\u001b[38;5;21;01m.\u001b[39;00m\u001b[38;5;21;01mutils\u001b[39;00m\u001b[38;5;21;01m.\u001b[39;00m\u001b[38;5;21;01mtensorboard\u001b[39;00m\n",
      "\u001b[0;31mModuleNotFoundError\u001b[0m: No module named 'torch'"
     ]
    }
   ],
   "source": [
    "import os\n",
    "import subprocess\n",
    "import requests\n",
    "import matplotlib.pyplot as plt\n",
    "from Bio.PDB import PDBParser, MMCIFParser\n",
    "\n",
    "import deepchem as dc\n",
    "from deepchem.feat import MolGraphConvFeaturizer\n",
    "from deepchem.models.torch_models import GraphConvModel\n",
    "\n",
    "\n",
    "# Install Fpocket if not already installed\n",
    "subprocess.run([\"sudo\", \"apt-get\", \"install\", \"-y\", \"fpocket\"])\n",
    "\n",
    "# Install DeepSite dependencies\n",
    "subprocess.run([\"pip\", \"install\", \"biopython\", \"pymol\", \"openbabel\", \"deepchem\", \"p2rank\"])\n",
    "\n",
    "# Function to fetch PDB file from RCSB database\n",
    "def fetch_pdb(pdb_id):\n",
    "    url = f'https://files.rcsb.org/download/{pdb_id}.pdb'\n",
    "    response = requests.get(url)\n",
    "    if response.status_code == 200:\n",
    "        with open(f'{pdb_id}.pdb', 'wb') as file:\n",
    "            file.write(response.content)\n",
    "        print(f\"Downloaded {pdb_id}.pdb\")\n",
    "        return f\"{pdb_id}.pdb\"\n",
    "    else:\n",
    "        print(\"Failed to download PDB file\")\n",
    "        return None\n",
    "\n",
    "# Function to run Fpocket analysis\n",
    "def run_fpocket(pdb_file):\n",
    "    output_dir = f\"{pdb_file.split('.')[0]}_fpocket_output\"\n",
    "    subprocess.run([\"fpocket\", \"-f\", pdb_file])\n",
    "    print(f\"Fpocket analysis completed! Results saved in {output_dir}\")\n",
    "    return output_dir\n",
    "\n",
    "# Function to parse and visualize pocket sizes\n",
    "def parse_pocket_results(output_dir):\n",
    "    pocket_file = os.path.join(output_dir, \"pocket_stats.txt\")\n",
    "    pocket_sizes = []\n",
    "    with open(pocket_file, 'r') as f:\n",
    "        for line in f:\n",
    "            if line.startswith(\"Pocket Volume\"):\n",
    "                pocket_sizes.append(float(line.split()[2]))\n",
    "    \n",
    "    plt.figure(figsize=(8,5))\n",
    "    plt.hist(pocket_sizes, bins=10, edgecolor='black', alpha=0.7)\n",
    "    plt.xlabel(\"Pocket Volume (Å³)\")\n",
    "    plt.ylabel(\"Count\")\n",
    "    plt.title(\"Distribution of Pocket Volumes\")\n",
    "    plt.show()\n",
    "    print(\"Pocket volume distribution visualized!\")\n",
    "\n",
    "# Function to run DeepSite for druggability prediction\n",
    "def run_deepsite(pdb_file):\n",
    "    # Load PDB file\n",
    "    protein_pdb = pdb_file\n",
    "    \n",
    "    # Predict pocket locations\n",
    "    pocket_predictor = dc.models.GraphConvModel(n_tasks=1, mode='classification')\n",
    "    predictions = pocket_predictor.predict([protein_pdb])\n",
    "    \n",
    "    print(\"Predicted druggable pockets:\", predictions)\n",
    "\n",
    "# Fetch a PDB file\n",
    "def get_pdb_file():\n",
    "    pdb_id = \"5PTI\"  # Default to 5PTI\n",
    "    return fetch_pdb(pdb_id)\n",
    "\n",
    "# Run analysis\n",
    "pdb_file = get_pdb_file()\n",
    "if pdb_file:\n",
    "    fpocket_output = run_fpocket(pdb_file)\n",
    "    parse_pocket_results(fpocket_output)\n",
    "    run_deepsite(pdb_file)\n",
    "\n",
    "print(\"Analysis complete! You can now use DeepSite for further screening.\")\n"
   ]
  }
 ],
 "metadata": {
  "kernelspec": {
   "display_name": "deepchem-env",
   "language": "python",
   "name": "python3"
  },
  "language_info": {
   "codemirror_mode": {
    "name": "ipython",
    "version": 3
   },
   "file_extension": ".py",
   "mimetype": "text/x-python",
   "name": "python",
   "nbconvert_exporter": "python",
   "pygments_lexer": "ipython3",
   "version": "3.11.11"
  }
 },
 "nbformat": 4,
 "nbformat_minor": 2
}
